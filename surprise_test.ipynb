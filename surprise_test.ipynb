{
 "cells": [
  {
   "cell_type": "code",
   "execution_count": 2,
   "id": "47b8f5d3-556d-4a51-af05-7bacce8109eb",
   "metadata": {},
   "outputs": [],
   "source": [
    "import itertools\n",
    "\n",
    "import numpy as np\n",
    "import pandas as pd\n",
    "from surprise import Dataset, KNNBasic\n",
    "from tqdm import tqdm"
   ]
  },
  {
   "cell_type": "code",
   "execution_count": 4,
   "id": "00ee7510-b549-4a6c-b47d-b5fbc1466bbf",
   "metadata": {},
   "outputs": [
    {
     "name": "stderr",
     "output_type": "stream",
     "text": [
      "/usr/local/lib/python3.9/site-packages/pandas/util/_decorators.py:311: ParserWarning: Falling back to the 'python' engine because the 'c' engine does not support regex separators (separators > 1 char and different from '\\s+' are interpreted as regex); you can avoid this warning by specifying engine='python'.\n",
      "  return func(*args, **kwargs)\n"
     ]
    }
   ],
   "source": [
    "# data = pd.read_table(\"ml-100k/u.data\", header=None, usecols=[0, 1, 2], names=[\"user_id\", \"item_id\", \"rating\"])\n",
    "data = pd.read_table(\"ml-1m/ratings.dat\", sep='::',header=None, usecols=[0, 1, 2], names=[\"user_id\", \"item_id\", \"rating\"])"
   ]
  },
  {
   "cell_type": "code",
   "execution_count": 5,
   "id": "b7004daf-944b-42f9-a039-89fd2b9fd6e6",
   "metadata": {},
   "outputs": [
    {
     "data": {
      "text/html": [
       "<div>\n",
       "<style scoped>\n",
       "    .dataframe tbody tr th:only-of-type {\n",
       "        vertical-align: middle;\n",
       "    }\n",
       "\n",
       "    .dataframe tbody tr th {\n",
       "        vertical-align: top;\n",
       "    }\n",
       "\n",
       "    .dataframe thead th {\n",
       "        text-align: right;\n",
       "    }\n",
       "</style>\n",
       "<table border=\"1\" class=\"dataframe\">\n",
       "  <thead>\n",
       "    <tr style=\"text-align: right;\">\n",
       "      <th></th>\n",
       "      <th>user_id</th>\n",
       "      <th>item_id</th>\n",
       "      <th>rating</th>\n",
       "    </tr>\n",
       "  </thead>\n",
       "  <tbody>\n",
       "    <tr>\n",
       "      <th>0</th>\n",
       "      <td>1</td>\n",
       "      <td>1193</td>\n",
       "      <td>5</td>\n",
       "    </tr>\n",
       "    <tr>\n",
       "      <th>1</th>\n",
       "      <td>1</td>\n",
       "      <td>661</td>\n",
       "      <td>3</td>\n",
       "    </tr>\n",
       "    <tr>\n",
       "      <th>2</th>\n",
       "      <td>1</td>\n",
       "      <td>914</td>\n",
       "      <td>3</td>\n",
       "    </tr>\n",
       "    <tr>\n",
       "      <th>3</th>\n",
       "      <td>1</td>\n",
       "      <td>3408</td>\n",
       "      <td>4</td>\n",
       "    </tr>\n",
       "    <tr>\n",
       "      <th>4</th>\n",
       "      <td>1</td>\n",
       "      <td>2355</td>\n",
       "      <td>5</td>\n",
       "    </tr>\n",
       "    <tr>\n",
       "      <th>...</th>\n",
       "      <td>...</td>\n",
       "      <td>...</td>\n",
       "      <td>...</td>\n",
       "    </tr>\n",
       "    <tr>\n",
       "      <th>1000204</th>\n",
       "      <td>6040</td>\n",
       "      <td>1091</td>\n",
       "      <td>1</td>\n",
       "    </tr>\n",
       "    <tr>\n",
       "      <th>1000205</th>\n",
       "      <td>6040</td>\n",
       "      <td>1094</td>\n",
       "      <td>5</td>\n",
       "    </tr>\n",
       "    <tr>\n",
       "      <th>1000206</th>\n",
       "      <td>6040</td>\n",
       "      <td>562</td>\n",
       "      <td>5</td>\n",
       "    </tr>\n",
       "    <tr>\n",
       "      <th>1000207</th>\n",
       "      <td>6040</td>\n",
       "      <td>1096</td>\n",
       "      <td>4</td>\n",
       "    </tr>\n",
       "    <tr>\n",
       "      <th>1000208</th>\n",
       "      <td>6040</td>\n",
       "      <td>1097</td>\n",
       "      <td>4</td>\n",
       "    </tr>\n",
       "  </tbody>\n",
       "</table>\n",
       "<p>1000209 rows × 3 columns</p>\n",
       "</div>"
      ],
      "text/plain": [
       "         user_id  item_id  rating\n",
       "0              1     1193       5\n",
       "1              1      661       3\n",
       "2              1      914       3\n",
       "3              1     3408       4\n",
       "4              1     2355       5\n",
       "...          ...      ...     ...\n",
       "1000204     6040     1091       1\n",
       "1000205     6040     1094       5\n",
       "1000206     6040      562       5\n",
       "1000207     6040     1096       4\n",
       "1000208     6040     1097       4\n",
       "\n",
       "[1000209 rows x 3 columns]"
      ]
     },
     "execution_count": 5,
     "metadata": {},
     "output_type": "execute_result"
    }
   ],
   "source": [
    "data"
   ]
  },
  {
   "cell_type": "code",
   "execution_count": null,
   "id": "5312ce72-603c-4d5b-87af-f4071e76da8d",
   "metadata": {},
   "outputs": [],
   "source": [
    "# ndarrayの行番号とユーザーID,列番号とアイテムIDを対応付ける辞書を作成\n",
    "user_id2row_num = {}\n",
    "row_num2user_id = {}\n",
    "for i, user_id in enumerate(set(list(data[\"user_id\"]))):\n",
    "    user_id2row_num[user_id] = i\n",
    "    row_num2user_id[i] = user_id\n",
    "\n",
    "item_id2column_num = {}\n",
    "column_num2item_id = {}\n",
    "for i, item_id in enumerate(set(list(data[\"item_id\"]))):\n",
    "    item_id2column_num[item_id] = i\n",
    "    column_num2item_id[i] = item_id"
   ]
  },
  {
   "cell_type": "code",
   "execution_count": null,
   "id": "68ce7722-59e0-47c4-a96d-e244353dcca4",
   "metadata": {},
   "outputs": [],
   "source": [
    "data.head()"
   ]
  },
  {
   "cell_type": "code",
   "execution_count": null,
   "id": "aed7394b-c725-4b3a-a320-d4de5fdaaae4",
   "metadata": {},
   "outputs": [],
   "source": [
    "# ユーザー×アイテムの評価行列を作成\n",
    "rate_matrix = np.zeros((len(user_id2row_num), len(item_id2column_num)))\n",
    "for row in tqdm(data.itertuples(), total=data.shape[0]):\n",
    "    rate_matrix[user_id2row_num[row.user_id], item_id2column_num[row.item_id]] = row.rating"
   ]
  },
  {
   "cell_type": "code",
   "execution_count": null,
   "id": "9a159bd4-35da-4807-a2bd-1f9e6e64fe30",
   "metadata": {},
   "outputs": [],
   "source": [
    "data.query(\"user_id == 1\").sort_values(\"item_id\")"
   ]
  },
  {
   "cell_type": "code",
   "execution_count": null,
   "id": "dca74b35-69ef-4668-ae76-4d42af569848",
   "metadata": {},
   "outputs": [],
   "source": [
    "rate_matrix"
   ]
  },
  {
   "cell_type": "code",
   "execution_count": null,
   "id": "fb4b4c6e-160d-4710-b437-869c61cc082e",
   "metadata": {},
   "outputs": [],
   "source": [
    "# ユーザー×ユーザーの組み合わせを列挙\n",
    "row_list = [i for i in range(len(row_num2user_id))]\n",
    "comb = [c for c in itertools.combinations(row_list, 2)]"
   ]
  },
  {
   "cell_type": "code",
   "execution_count": null,
   "id": "9d587d0d-6817-48f4-8cae-042a0c41ab81",
   "metadata": {},
   "outputs": [],
   "source": [
    "for i in range(7):\n",
    "    print(i)"
   ]
  },
  {
   "cell_type": "code",
   "execution_count": null,
   "id": "c8356c48-1750-43a8-8c9b-b8c5d8418924",
   "metadata": {},
   "outputs": [],
   "source": [
    "# それぞれのコアにできるだけ均等になるように担当の組み合わせを配布\n",
    "print(len(comb))\n",
    "comb_list = np.array_split(comb, 7)"
   ]
  },
  {
   "cell_type": "code",
   "execution_count": null,
   "id": "32b51f37-e39c-4f15-b684-47154df8792f",
   "metadata": {},
   "outputs": [],
   "source": [
    "len(comb_list)"
   ]
  },
  {
   "cell_type": "code",
   "execution_count": null,
   "id": "fb6470c6-4af4-45fb-9854-f272ccfc53ce",
   "metadata": {},
   "outputs": [],
   "source": [
    "# コサイン類似度を計算\n",
    "def cos_sim(v1, v2):\n",
    "    return np.dot(v1, v2) / (np.linalg.norm(v1) * np.linalg.norm(v2))"
   ]
  },
  {
   "cell_type": "code",
   "execution_count": null,
   "id": "bba696fa-89e0-4744-8cfa-58daa707a6bb",
   "metadata": {
    "tags": []
   },
   "outputs": [],
   "source": [
    "sim_list = []\n",
    "# for c in np.array_split(comb, 7)[0]:\n",
    "for c in tqdm(comb):\n",
    "    sim_dict = {}\n",
    "    sim_dict[\"comb\"] = c\n",
    "    sim_dict[\"sim\"] = cos_sim(rate_matrix[c[0]], rate_matrix[c[1]])\n",
    "    sim_list.append(sim_dict)"
   ]
  },
  {
   "cell_type": "code",
   "execution_count": null,
   "id": "28bf4d98-ef67-4d53-84fd-6e1276089d04",
   "metadata": {},
   "outputs": [],
   "source": [
    "# ユーザー×ユーザー行列に反映\n",
    "sim_matrix = np.zeros((len(user_id2row_num), len(user_id2row_num)))\n",
    "for s in sim_list:\n",
    "    sim_matrix[s[\"comb\"][0], s[\"comb\"][1]] = s[\"sim\"]"
   ]
  },
  {
   "cell_type": "code",
   "execution_count": null,
   "id": "61eedc55-2f64-4d12-9583-0bbab61687f6",
   "metadata": {},
   "outputs": [],
   "source": [
    "sim_matrix"
   ]
  },
  {
   "cell_type": "code",
   "execution_count": null,
   "id": "cacf9ffc-a931-4dc2-a010-459aa7d81911",
   "metadata": {},
   "outputs": [],
   "source": [
    "# 類似度が上位k件の行リストを作成し、それらのユーザーの評価を平均し、ソート\n",
    "k = 5\n",
    "predict_user_id = 1\n",
    "predict_row_num = user_id2row_num[predict_user_id]\n",
    "\n",
    "\n",
    "top_k_rows = np.argsort(sim_matrix[predict_row_num])[::-1][:k]\n",
    "\n",
    "topk_mean_ratings = np.mean(rate_matrix[top_k_rows, :], axis=0)\n",
    "for i in np.argsort(topk_mean_ratings)[::-1]:\n",
    "    if rate_matrix[predict_row_num, i] == 0:\n",
    "        print(column_num2item_id[i], topk_mean_ratings[i])\n",
    "        break\n",
    "\n",
    "\n",
    "# top_k_user_ids= [row_num2user_id[i] for i in top_k_rows]"
   ]
  },
  {
   "cell_type": "code",
   "execution_count": null,
   "id": "18c997e1-5a2e-4b57-9509-d03bd08d91ec",
   "metadata": {},
   "outputs": [],
   "source": [
    "np.argsort(topk_mean_ratings)[::-1]"
   ]
  },
  {
   "cell_type": "code",
   "execution_count": null,
   "id": "ef607c17-b394-464b-b6eb-442da0f06ce8",
   "metadata": {},
   "outputs": [],
   "source": [
    "kkk"
   ]
  },
  {
   "cell_type": "code",
   "execution_count": null,
   "id": "4759d7c1-0a0d-437a-9ad8-1b12ff0e58b7",
   "metadata": {},
   "outputs": [],
   "source": [
    "topk_mean_ratings"
   ]
  },
  {
   "cell_type": "code",
   "execution_count": null,
   "id": "6688da79-5f20-415a-ab9d-2f6a0edec0a0",
   "metadata": {},
   "outputs": [],
   "source": [
    "top_k_user_ids"
   ]
  },
  {
   "cell_type": "code",
   "execution_count": null,
   "id": "5c420ea7-38e3-4d1d-8d19-597c6aae26b6",
   "metadata": {},
   "outputs": [],
   "source": [
    "# sim_matrix[0][np.argsort(sim_matrix[0])[::-1][:5]]\n",
    "np.argsort(sim_matrix[0])[::-1][:5]"
   ]
  },
  {
   "cell_type": "code",
   "execution_count": null,
   "id": "aba8c9e2-5a64-44c9-bf63-56898910ba5a",
   "metadata": {},
   "outputs": [],
   "source": [
    "max(sim_matrix[0])"
   ]
  },
  {
   "cell_type": "code",
   "execution_count": null,
   "id": "b4d9c022-6da3-450b-82e3-2bac830898f2",
   "metadata": {},
   "outputs": [],
   "source": [
    "sim_matrix(rate_matrix[0], rate_matrix[4])"
   ]
  },
  {
   "cell_type": "code",
   "execution_count": null,
   "id": "b50ec789-9524-404b-995e-4ce9789b9444",
   "metadata": {},
   "outputs": [],
   "source": [
    "rate_matrix[0]"
   ]
  },
  {
   "cell_type": "code",
   "execution_count": null,
   "id": "67364a65-3ad8-4787-9c5f-71cf3785d490",
   "metadata": {},
   "outputs": [],
   "source": [
    "rate_matrix[1]"
   ]
  },
  {
   "cell_type": "code",
   "execution_count": null,
   "id": "c74ba979-0803-42f0-8d29-a4b767e0fe22",
   "metadata": {},
   "outputs": [],
   "source": []
  },
  {
   "cell_type": "code",
   "execution_count": null,
   "id": "8c5b8a8e-ca68-48e1-ac97-ad57a095dad3",
   "metadata": {},
   "outputs": [],
   "source": [
    "data.describe()"
   ]
  },
  {
   "cell_type": "code",
   "execution_count": null,
   "id": "0aa50a62-a41f-404d-a81b-5dd248484f9b",
   "metadata": {},
   "outputs": [],
   "source": [
    "# Load the movielens-100k dataset\n",
    "data = Dataset.load_builtin(\"ml-100k\")\n",
    "\n",
    "# Retrieve the trainset.\n",
    "trainset = data.build_full_trainset()"
   ]
  },
  {
   "cell_type": "code",
   "execution_count": null,
   "id": "b2151224-8223-4078-8581-8135b026b427",
   "metadata": {},
   "outputs": [],
   "source": [
    "# Build an algorithm, and train it.\n",
    "algo = KNNBasic()\n",
    "algo.fit(trainset)"
   ]
  },
  {
   "cell_type": "code",
   "execution_count": null,
   "id": "7a8a99f2-2356-49ea-a311-1cac36c23f8f",
   "metadata": {},
   "outputs": [],
   "source": [
    "uid = str(196)  # raw user id (as in the ratings file). They are **strings**!\n",
    "iid = str(302)  # raw item id (as in the ratings file). They are **strings**!\n",
    "\n",
    "# get a prediction for specific users and items.\n",
    "pred = algo.predict(uid, iid, r_ui=4, verbose=True)"
   ]
  },
  {
   "cell_type": "code",
   "execution_count": null,
   "id": "7f669550-9c6d-4332-ab2b-9cdf8d931df9",
   "metadata": {},
   "outputs": [],
   "source": [
    "iter_num = 100000000\n",
    "result = 0\n",
    "for i in range(iter_num):\n",
    "    result = result + i"
   ]
  },
  {
   "cell_type": "code",
   "execution_count": null,
   "id": "22a7edb7-a403-45fd-bbc0-2a34a93188e0",
   "metadata": {},
   "outputs": [],
   "source": [
    "result"
   ]
  },
  {
   "cell_type": "code",
   "execution_count": null,
   "id": "77782edc-2370-4cdd-b99e-9abb1d6c0ed3",
   "metadata": {},
   "outputs": [],
   "source": [
    "ls = [i for i in range(100000)]\n",
    "c = itertools.combinations(ls, 2)\n",
    "combinations = [comb for comb in c]"
   ]
  },
  {
   "cell_type": "code",
   "execution_count": null,
   "id": "0970668c-7644-46e8-9490-a7bd0f945d8f",
   "metadata": {},
   "outputs": [],
   "source": [
    "c"
   ]
  },
  {
   "cell_type": "code",
   "execution_count": null,
   "id": "91735cf6-937e-4b34-8547-c737cf43b26d",
   "metadata": {},
   "outputs": [],
   "source": []
  },
  {
   "cell_type": "code",
   "execution_count": null,
   "id": "a4fcee24-9fa0-4685-989b-e36cae9e274a",
   "metadata": {},
   "outputs": [],
   "source": [
    "len(combinations)"
   ]
  }
 ],
 "metadata": {
  "kernelspec": {
   "display_name": "Python 3 (ipykernel)",
   "language": "python",
   "name": "python3"
  },
  "language_info": {
   "codemirror_mode": {
    "name": "ipython",
    "version": 3
   },
   "file_extension": ".py",
   "mimetype": "text/x-python",
   "name": "python",
   "nbconvert_exporter": "python",
   "pygments_lexer": "ipython3",
   "version": "3.9.6"
  }
 },
 "nbformat": 4,
 "nbformat_minor": 5
}
