{
 "cells": [
  {
   "cell_type": "code",
   "execution_count": 1,
   "id": "47b8f5d3-556d-4a51-af05-7bacce8109eb",
   "metadata": {},
   "outputs": [],
   "source": [
    "import itertools\n",
    "\n",
    "import numpy as np\n",
    "import pandas as pd\n",
    "from surprise import Dataset, KNNBasic\n",
    "from tqdm import tqdm"
   ]
  },
  {
   "cell_type": "code",
   "execution_count": 2,
   "id": "00ee7510-b549-4a6c-b47d-b5fbc1466bbf",
   "metadata": {},
   "outputs": [],
   "source": [
    "data = pd.read_table(\"ml-100k/u.data\", header=None, usecols=[0, 1, 2], names=[\"user_id\", \"item_id\", \"rating\"])"
   ]
  },
  {
   "cell_type": "code",
   "execution_count": 3,
   "id": "5312ce72-603c-4d5b-87af-f4071e76da8d",
   "metadata": {},
   "outputs": [],
   "source": [
    "# ndarrayの行番号とユーザーID,列番号とアイテムIDを対応付ける辞書を作成\n",
    "user_id2row_num = {}\n",
    "row_num2user_id = {}\n",
    "for i, user_id in enumerate(set(list(data[\"user_id\"]))):\n",
    "    user_id2row_num[user_id] = i\n",
    "    row_num2user_id[i] = user_id\n",
    "\n",
    "item_id2column_num = {}\n",
    "column_num2item_id = {}\n",
    "for i, item_id in enumerate(set(list(data[\"item_id\"]))):\n",
    "    item_id2column_num[item_id] = i\n",
    "    column_num2item_id[i] = item_id"
   ]
  },
  {
   "cell_type": "code",
   "execution_count": 4,
   "id": "68ce7722-59e0-47c4-a96d-e244353dcca4",
   "metadata": {},
   "outputs": [
    {
     "data": {
      "text/html": [
       "<div>\n",
       "<style scoped>\n",
       "    .dataframe tbody tr th:only-of-type {\n",
       "        vertical-align: middle;\n",
       "    }\n",
       "\n",
       "    .dataframe tbody tr th {\n",
       "        vertical-align: top;\n",
       "    }\n",
       "\n",
       "    .dataframe thead th {\n",
       "        text-align: right;\n",
       "    }\n",
       "</style>\n",
       "<table border=\"1\" class=\"dataframe\">\n",
       "  <thead>\n",
       "    <tr style=\"text-align: right;\">\n",
       "      <th></th>\n",
       "      <th>user_id</th>\n",
       "      <th>item_id</th>\n",
       "      <th>rating</th>\n",
       "    </tr>\n",
       "  </thead>\n",
       "  <tbody>\n",
       "    <tr>\n",
       "      <th>0</th>\n",
       "      <td>196</td>\n",
       "      <td>242</td>\n",
       "      <td>3</td>\n",
       "    </tr>\n",
       "    <tr>\n",
       "      <th>1</th>\n",
       "      <td>186</td>\n",
       "      <td>302</td>\n",
       "      <td>3</td>\n",
       "    </tr>\n",
       "    <tr>\n",
       "      <th>2</th>\n",
       "      <td>22</td>\n",
       "      <td>377</td>\n",
       "      <td>1</td>\n",
       "    </tr>\n",
       "    <tr>\n",
       "      <th>3</th>\n",
       "      <td>244</td>\n",
       "      <td>51</td>\n",
       "      <td>2</td>\n",
       "    </tr>\n",
       "    <tr>\n",
       "      <th>4</th>\n",
       "      <td>166</td>\n",
       "      <td>346</td>\n",
       "      <td>1</td>\n",
       "    </tr>\n",
       "  </tbody>\n",
       "</table>\n",
       "</div>"
      ],
      "text/plain": [
       "   user_id  item_id  rating\n",
       "0      196      242       3\n",
       "1      186      302       3\n",
       "2       22      377       1\n",
       "3      244       51       2\n",
       "4      166      346       1"
      ]
     },
     "execution_count": 4,
     "metadata": {},
     "output_type": "execute_result"
    }
   ],
   "source": [
    "data.head()"
   ]
  },
  {
   "cell_type": "code",
   "execution_count": 5,
   "id": "aed7394b-c725-4b3a-a320-d4de5fdaaae4",
   "metadata": {},
   "outputs": [
    {
     "name": "stderr",
     "output_type": "stream",
     "text": [
      "100%|██████████████████████████████████████████████████████| 100000/100000 [00:00<00:00, 855624.19it/s]\n"
     ]
    }
   ],
   "source": [
    "# ユーザー×アイテムの評価行列を作成\n",
    "rate_matrix = np.zeros((len(user_id2row_num), len(item_id2column_num)))\n",
    "for row in tqdm(data.itertuples(), total=data.shape[0]):\n",
    "    rate_matrix[user_id2row_num[row.user_id], item_id2column_num[row.item_id]] = row.rating"
   ]
  },
  {
   "cell_type": "code",
   "execution_count": 6,
   "id": "9a159bd4-35da-4807-a2bd-1f9e6e64fe30",
   "metadata": {},
   "outputs": [
    {
     "data": {
      "text/html": [
       "<div>\n",
       "<style scoped>\n",
       "    .dataframe tbody tr th:only-of-type {\n",
       "        vertical-align: middle;\n",
       "    }\n",
       "\n",
       "    .dataframe tbody tr th {\n",
       "        vertical-align: top;\n",
       "    }\n",
       "\n",
       "    .dataframe thead th {\n",
       "        text-align: right;\n",
       "    }\n",
       "</style>\n",
       "<table border=\"1\" class=\"dataframe\">\n",
       "  <thead>\n",
       "    <tr style=\"text-align: right;\">\n",
       "      <th></th>\n",
       "      <th>user_id</th>\n",
       "      <th>item_id</th>\n",
       "      <th>rating</th>\n",
       "    </tr>\n",
       "  </thead>\n",
       "  <tbody>\n",
       "    <tr>\n",
       "      <th>32236</th>\n",
       "      <td>1</td>\n",
       "      <td>1</td>\n",
       "      <td>5</td>\n",
       "    </tr>\n",
       "    <tr>\n",
       "      <th>23171</th>\n",
       "      <td>1</td>\n",
       "      <td>2</td>\n",
       "      <td>3</td>\n",
       "    </tr>\n",
       "    <tr>\n",
       "      <th>83307</th>\n",
       "      <td>1</td>\n",
       "      <td>3</td>\n",
       "      <td>4</td>\n",
       "    </tr>\n",
       "    <tr>\n",
       "      <th>62631</th>\n",
       "      <td>1</td>\n",
       "      <td>4</td>\n",
       "      <td>3</td>\n",
       "    </tr>\n",
       "    <tr>\n",
       "      <th>47638</th>\n",
       "      <td>1</td>\n",
       "      <td>5</td>\n",
       "      <td>3</td>\n",
       "    </tr>\n",
       "    <tr>\n",
       "      <th>...</th>\n",
       "      <td>...</td>\n",
       "      <td>...</td>\n",
       "      <td>...</td>\n",
       "    </tr>\n",
       "    <tr>\n",
       "      <th>34550</th>\n",
       "      <td>1</td>\n",
       "      <td>268</td>\n",
       "      <td>5</td>\n",
       "    </tr>\n",
       "    <tr>\n",
       "      <th>25138</th>\n",
       "      <td>1</td>\n",
       "      <td>269</td>\n",
       "      <td>5</td>\n",
       "    </tr>\n",
       "    <tr>\n",
       "      <th>27216</th>\n",
       "      <td>1</td>\n",
       "      <td>270</td>\n",
       "      <td>5</td>\n",
       "    </tr>\n",
       "    <tr>\n",
       "      <th>35409</th>\n",
       "      <td>1</td>\n",
       "      <td>271</td>\n",
       "      <td>2</td>\n",
       "    </tr>\n",
       "    <tr>\n",
       "      <th>4306</th>\n",
       "      <td>1</td>\n",
       "      <td>272</td>\n",
       "      <td>3</td>\n",
       "    </tr>\n",
       "  </tbody>\n",
       "</table>\n",
       "<p>272 rows × 3 columns</p>\n",
       "</div>"
      ],
      "text/plain": [
       "       user_id  item_id  rating\n",
       "32236        1        1       5\n",
       "23171        1        2       3\n",
       "83307        1        3       4\n",
       "62631        1        4       3\n",
       "47638        1        5       3\n",
       "...        ...      ...     ...\n",
       "34550        1      268       5\n",
       "25138        1      269       5\n",
       "27216        1      270       5\n",
       "35409        1      271       2\n",
       "4306         1      272       3\n",
       "\n",
       "[272 rows x 3 columns]"
      ]
     },
     "execution_count": 6,
     "metadata": {},
     "output_type": "execute_result"
    }
   ],
   "source": [
    "data.query(\"user_id == 1\").sort_values(\"item_id\")"
   ]
  },
  {
   "cell_type": "code",
   "execution_count": 7,
   "id": "dca74b35-69ef-4668-ae76-4d42af569848",
   "metadata": {},
   "outputs": [
    {
     "data": {
      "text/plain": [
       "array([[5., 3., 4., ..., 0., 0., 0.],\n",
       "       [4., 0., 0., ..., 0., 0., 0.],\n",
       "       [0., 0., 0., ..., 0., 0., 0.],\n",
       "       ...,\n",
       "       [5., 0., 0., ..., 0., 0., 0.],\n",
       "       [0., 0., 0., ..., 0., 0., 0.],\n",
       "       [0., 5., 0., ..., 0., 0., 0.]])"
      ]
     },
     "execution_count": 7,
     "metadata": {},
     "output_type": "execute_result"
    }
   ],
   "source": [
    "rate_matrix"
   ]
  },
  {
   "cell_type": "code",
   "execution_count": 8,
   "id": "fb4b4c6e-160d-4710-b437-869c61cc082e",
   "metadata": {},
   "outputs": [],
   "source": [
    "# ユーザー×ユーザーの組み合わせを列挙\n",
    "row_list = [i for i in range(len(row_num2user_id))]\n",
    "comb = [c for c in itertools.combinations(row_list, 2)]"
   ]
  },
  {
   "cell_type": "code",
   "execution_count": 39,
   "id": "9d587d0d-6817-48f4-8cae-042a0c41ab81",
   "metadata": {},
   "outputs": [
    {
     "name": "stdout",
     "output_type": "stream",
     "text": [
      "0\n",
      "1\n",
      "2\n",
      "3\n",
      "4\n",
      "5\n",
      "6\n"
     ]
    }
   ],
   "source": [
    "for i in range(7):\n",
    "    print(i)"
   ]
  },
  {
   "cell_type": "code",
   "execution_count": 42,
   "id": "c8356c48-1750-43a8-8c9b-b8c5d8418924",
   "metadata": {},
   "outputs": [
    {
     "name": "stdout",
     "output_type": "stream",
     "text": [
      "444153\n"
     ]
    }
   ],
   "source": [
    "# それぞれのコアにできるだけ均等になるように担当の組み合わせを配布\n",
    "print(len(comb))\n",
    "comb_list = np.array_split(comb, 7)"
   ]
  },
  {
   "cell_type": "code",
   "execution_count": 43,
   "id": "32b51f37-e39c-4f15-b684-47154df8792f",
   "metadata": {},
   "outputs": [
    {
     "data": {
      "text/plain": [
       "7"
      ]
     },
     "execution_count": 43,
     "metadata": {},
     "output_type": "execute_result"
    }
   ],
   "source": [
    "len(comb_list)"
   ]
  },
  {
   "cell_type": "code",
   "execution_count": 10,
   "id": "fb6470c6-4af4-45fb-9854-f272ccfc53ce",
   "metadata": {},
   "outputs": [],
   "source": [
    "# コサイン類似度を計算\n",
    "def cos_sim(v1, v2):\n",
    "    return np.dot(v1, v2) / (np.linalg.norm(v1) * np.linalg.norm(v2))"
   ]
  },
  {
   "cell_type": "code",
   "execution_count": 25,
   "id": "bba696fa-89e0-4744-8cfa-58daa707a6bb",
   "metadata": {
    "tags": []
   },
   "outputs": [
    {
     "name": "stderr",
     "output_type": "stream",
     "text": [
      "100%|███████████████████████████████████████████████████████| 444153/444153 [00:05<00:00, 86698.62it/s]\n"
     ]
    }
   ],
   "source": [
    "sim_list = []\n",
    "# for c in np.array_split(comb, 7)[0]:\n",
    "for c in tqdm(comb):\n",
    "    sim_dict = {}\n",
    "    sim_dict[\"comb\"] = c\n",
    "    sim_dict[\"sim\"] = cos_sim(rate_matrix[c[0]], rate_matrix[c[1]])\n",
    "    sim_list.append(sim_dict)"
   ]
  },
  {
   "cell_type": "code",
   "execution_count": 26,
   "id": "28bf4d98-ef67-4d53-84fd-6e1276089d04",
   "metadata": {},
   "outputs": [],
   "source": [
    "# ユーザー×ユーザー行列に反映\n",
    "sim_matrix = np.zeros((len(user_id2row_num), len(user_id2row_num)))\n",
    "for s in sim_list:\n",
    "    sim_matrix[s[\"comb\"][0], s[\"comb\"][1]] = s[\"sim\"]"
   ]
  },
  {
   "cell_type": "code",
   "execution_count": 27,
   "id": "61eedc55-2f64-4d12-9583-0bbab61687f6",
   "metadata": {},
   "outputs": [
    {
     "data": {
      "text/plain": [
       "array([[0.        , 0.16693098, 0.04745954, ..., 0.14861694, 0.17950788,\n",
       "        0.39817474],\n",
       "       [0.        , 0.        , 0.11059132, ..., 0.16148478, 0.17226781,\n",
       "        0.10579788],\n",
       "       [0.        , 0.        , 0.        , ..., 0.10124256, 0.13341615,\n",
       "        0.02655587],\n",
       "       ...,\n",
       "       [0.        , 0.        , 0.        , ..., 0.        , 0.1016418 ,\n",
       "        0.09511958],\n",
       "       [0.        , 0.        , 0.        , ..., 0.        , 0.        ,\n",
       "        0.18246466],\n",
       "       [0.        , 0.        , 0.        , ..., 0.        , 0.        ,\n",
       "        0.        ]])"
      ]
     },
     "execution_count": 27,
     "metadata": {},
     "output_type": "execute_result"
    }
   ],
   "source": [
    "sim_matrix"
   ]
  },
  {
   "cell_type": "code",
   "execution_count": 60,
   "id": "cacf9ffc-a931-4dc2-a010-459aa7d81911",
   "metadata": {},
   "outputs": [
    {
     "name": "stdout",
     "output_type": "stream",
     "text": [
      "474 4.0\n"
     ]
    }
   ],
   "source": [
    "# 類似度が上位k件の行リストを作成し、それらのユーザーの評価を平均し、ソート\n",
    "k = 5\n",
    "predict_user_id = 1\n",
    "predict_row_num = user_id2row_num[predict_user_id]\n",
    "\n",
    "\n",
    "top_k_rows = np.argsort(sim_matrix[predict_row_num])[::-1][:k]\n",
    "\n",
    "topk_mean_ratings = np.mean(rate_matrix[top_k_rows, :], axis=0)\n",
    "for i in np.argsort(topk_mean_ratings)[::-1]:\n",
    "    if rate_matrix[predict_row_num, i] == 0:\n",
    "        print(column_num2item_id[i], topk_mean_ratings[i])\n",
    "        break\n",
    "\n",
    "\n",
    "# top_k_user_ids= [row_num2user_id[i] for i in top_k_rows]"
   ]
  },
  {
   "cell_type": "code",
   "execution_count": 58,
   "id": "18c997e1-5a2e-4b57-9509-d03bd08d91ec",
   "metadata": {},
   "outputs": [
    {
     "data": {
      "text/plain": [
       "array([ 173,   49,   55, ...,  771,  768, 1356])"
      ]
     },
     "execution_count": 58,
     "metadata": {},
     "output_type": "execute_result"
    }
   ],
   "source": [
    "np.argsort(topk_mean_ratings)[::-1]"
   ]
  },
  {
   "cell_type": "code",
   "execution_count": 56,
   "id": "ef607c17-b394-464b-b6eb-442da0f06ce8",
   "metadata": {},
   "outputs": [
    {
     "data": {
      "text/plain": [
       "array([5., 3., 4., ..., 0., 0., 0.])"
      ]
     },
     "execution_count": 56,
     "metadata": {},
     "output_type": "execute_result"
    }
   ],
   "source": [
    "kkk"
   ]
  },
  {
   "cell_type": "code",
   "execution_count": 53,
   "id": "4759d7c1-0a0d-437a-9ad8-1b12ff0e58b7",
   "metadata": {},
   "outputs": [
    {
     "data": {
      "text/plain": [
       "array([4.2, 3.2, 1.4, ..., 0. , 0. , 0.6])"
      ]
     },
     "execution_count": 53,
     "metadata": {},
     "output_type": "execute_result"
    }
   ],
   "source": [
    "topk_mean_ratings"
   ]
  },
  {
   "cell_type": "code",
   "execution_count": 46,
   "id": "6688da79-5f20-415a-ab9d-2f6a0edec0a0",
   "metadata": {},
   "outputs": [
    {
     "data": {
      "text/plain": [
       "[916, 864, 268, 92, 435]"
      ]
     },
     "execution_count": 46,
     "metadata": {},
     "output_type": "execute_result"
    }
   ],
   "source": [
    "top_k_user_ids"
   ]
  },
  {
   "cell_type": "code",
   "execution_count": 47,
   "id": "5c420ea7-38e3-4d1d-8d19-597c6aae26b6",
   "metadata": {},
   "outputs": [
    {
     "data": {
      "text/plain": [
       "array([915, 863, 267,  91, 434])"
      ]
     },
     "execution_count": 47,
     "metadata": {},
     "output_type": "execute_result"
    }
   ],
   "source": [
    "# sim_matrix[0][np.argsort(sim_matrix[0])[::-1][:5]]\n",
    "np.argsort(sim_matrix[0])[::-1][:5]"
   ]
  },
  {
   "cell_type": "code",
   "execution_count": 37,
   "id": "aba8c9e2-5a64-44c9-bf63-56898910ba5a",
   "metadata": {},
   "outputs": [
    {
     "data": {
      "text/plain": [
       "0.569065731527988"
      ]
     },
     "execution_count": 37,
     "metadata": {},
     "output_type": "execute_result"
    }
   ],
   "source": [
    "max(sim_matrix[0])"
   ]
  },
  {
   "cell_type": "code",
   "execution_count": 14,
   "id": "b4d9c022-6da3-450b-82e3-2bac830898f2",
   "metadata": {},
   "outputs": [
    {
     "data": {
      "text/plain": [
       "0.37847518240569844"
      ]
     },
     "execution_count": 14,
     "metadata": {},
     "output_type": "execute_result"
    }
   ],
   "source": [
    "sim_matrix(rate_matrix[0], rate_matrix[4])"
   ]
  },
  {
   "cell_type": "code",
   "execution_count": 15,
   "id": "b50ec789-9524-404b-995e-4ce9789b9444",
   "metadata": {},
   "outputs": [
    {
     "data": {
      "text/plain": [
       "array([5., 3., 4., ..., 0., 0., 0.])"
      ]
     },
     "execution_count": 15,
     "metadata": {},
     "output_type": "execute_result"
    }
   ],
   "source": [
    "rate_matrix[0]"
   ]
  },
  {
   "cell_type": "code",
   "execution_count": 16,
   "id": "67364a65-3ad8-4787-9c5f-71cf3785d490",
   "metadata": {},
   "outputs": [
    {
     "data": {
      "text/plain": [
       "array([4., 0., 0., ..., 0., 0., 0.])"
      ]
     },
     "execution_count": 16,
     "metadata": {},
     "output_type": "execute_result"
    }
   ],
   "source": [
    "rate_matrix[1]"
   ]
  },
  {
   "cell_type": "code",
   "execution_count": null,
   "id": "c74ba979-0803-42f0-8d29-a4b767e0fe22",
   "metadata": {},
   "outputs": [],
   "source": []
  },
  {
   "cell_type": "code",
   "execution_count": null,
   "id": "8c5b8a8e-ca68-48e1-ac97-ad57a095dad3",
   "metadata": {},
   "outputs": [],
   "source": [
    "data.describe()"
   ]
  },
  {
   "cell_type": "code",
   "execution_count": null,
   "id": "0aa50a62-a41f-404d-a81b-5dd248484f9b",
   "metadata": {},
   "outputs": [],
   "source": [
    "# Load the movielens-100k dataset\n",
    "data = Dataset.load_builtin(\"ml-100k\")\n",
    "\n",
    "# Retrieve the trainset.\n",
    "trainset = data.build_full_trainset()"
   ]
  },
  {
   "cell_type": "code",
   "execution_count": null,
   "id": "b2151224-8223-4078-8581-8135b026b427",
   "metadata": {},
   "outputs": [],
   "source": [
    "# Build an algorithm, and train it.\n",
    "algo = KNNBasic()\n",
    "algo.fit(trainset)"
   ]
  },
  {
   "cell_type": "code",
   "execution_count": null,
   "id": "7a8a99f2-2356-49ea-a311-1cac36c23f8f",
   "metadata": {},
   "outputs": [],
   "source": [
    "uid = str(196)  # raw user id (as in the ratings file). They are **strings**!\n",
    "iid = str(302)  # raw item id (as in the ratings file). They are **strings**!\n",
    "\n",
    "# get a prediction for specific users and items.\n",
    "pred = algo.predict(uid, iid, r_ui=4, verbose=True)"
   ]
  },
  {
   "cell_type": "code",
   "execution_count": null,
   "id": "7f669550-9c6d-4332-ab2b-9cdf8d931df9",
   "metadata": {},
   "outputs": [],
   "source": [
    "iter_num = 100000000\n",
    "result = 0\n",
    "for i in range(iter_num):\n",
    "    result = result + i"
   ]
  },
  {
   "cell_type": "code",
   "execution_count": null,
   "id": "22a7edb7-a403-45fd-bbc0-2a34a93188e0",
   "metadata": {},
   "outputs": [],
   "source": [
    "result"
   ]
  },
  {
   "cell_type": "code",
   "execution_count": null,
   "id": "77782edc-2370-4cdd-b99e-9abb1d6c0ed3",
   "metadata": {},
   "outputs": [],
   "source": [
    "ls = [i for i in range(10000)]\n",
    "c = itertools.combinations(ls, 2)"
   ]
  },
  {
   "cell_type": "code",
   "execution_count": null,
   "id": "0970668c-7644-46e8-9490-a7bd0f945d8f",
   "metadata": {},
   "outputs": [],
   "source": [
    "c"
   ]
  },
  {
   "cell_type": "code",
   "execution_count": null,
   "id": "91735cf6-937e-4b34-8547-c737cf43b26d",
   "metadata": {},
   "outputs": [],
   "source": [
    "combinations = [comb for comb in c]"
   ]
  },
  {
   "cell_type": "code",
   "execution_count": null,
   "id": "a4fcee24-9fa0-4685-989b-e36cae9e274a",
   "metadata": {},
   "outputs": [],
   "source": [
    "len(combinations)"
   ]
  },
  {
   "cell_type": "code",
   "execution_count": null,
   "id": "c27f6df4-8986-4d5e-a705-dab1b7716112",
   "metadata": {},
   "outputs": [],
   "source": [
    "import itertools\n",
    "\n",
    "import numpy as np\n",
    "import pandas as pd\n",
    "from mpi4py import MPI\n",
    "from surprise import Dataset, KNNBasic\n",
    "\n",
    "# 設定値\n",
    "core_num = 8\n",
    "k = 5\n",
    "predict_user_id = 1\n",
    "\n",
    "\n",
    "comm = MPI.COMM_WORLD  # 並列処理開始\n",
    "\n",
    "size = comm.Get_size()  # 並列処理に使用できるプロセッサ数\n",
    "rank = comm.Get_rank()  # 各プロセッサのIDのようなもの\n",
    "\n",
    "# コサイン類似度\n",
    "def cos_sim(v1, v2):\n",
    "    return np.dot(v1, v2) / (np.linalg.norm(v1) * np.linalg.norm(v2))\n",
    "\n",
    "\n",
    "# ユーザー×アイテムの評価行列を作成\n",
    "def get_rate_matrix():\n",
    "    # データインポート\n",
    "    data = pd.read_table(\"ml-100k/u.data\", header=None, usecols=[0, 1, 2], names=[\"user_id\", \"item_id\", \"rating\"])\n",
    "\n",
    "    # ndarrayの行番号とユーザーID,列番号とアイテムIDを対応付ける辞書を作成\n",
    "    user_id2row_num = {}\n",
    "    row_num2user_id = {}\n",
    "    for i, user_id in enumerate(set(list(data[\"user_id\"]))):\n",
    "        user_id2row_num[user_id] = i\n",
    "        row_num2user_id[i] = user_id\n",
    "\n",
    "    item_id2column_num = {}\n",
    "    column_num2item_id = {}\n",
    "    for i, item_id in enumerate(set(list(data[\"item_id\"]))):\n",
    "        item_id2column_num[item_id] = i\n",
    "        column_num2item_id[i] = item_id\n",
    "\n",
    "    # ユーザー×アイテムの評価行列を作成\n",
    "    rate_matrix = np.zeros((len(user_id2row_num), len(item_id2column_num)))\n",
    "    # for row in tqdm(data.itertuples(), total=data.shape[0]):\n",
    "    for row in data.itertuples():\n",
    "        rate_matrix[user_id2row_num[row.user_id], item_id2column_num[row.item_id]] = row.rating\n",
    "\n",
    "    return rate_matrix, user_id2row_num, row_num2user_id, item_id2column_num, column_num2item_id\n",
    "\n",
    "\n",
    "# プロセス0が担当領域の分割と各プロセスへの送信、類似度計算結果の取得を行い、結果を収集してpredictする\n",
    "if rank == 0:\n",
    "    rate_matrix, user_id2row_num, row_num2user_id, item_id2column_num, column_num2item_id = get_rate_matrix()\n",
    "\n",
    "    # ユーザー×ユーザーの組み合わせを列挙\n",
    "    row_list = [i for i in range(len(row_num2user_id))]\n",
    "    comb = [c for c in itertools.combinations(row_list, 2)]\n",
    "\n",
    "    # それぞれのコアにできるだけ均等になるように担当の組み合わせを配布\n",
    "    # TODO:実行時に指定されたコア数で分割するように変更\n",
    "    comb_list = np.array_split(comb, core_num - 1)\n",
    "    for i in range(core_num - 1):\n",
    "        comm.Send(rate_matrix, dest=i + 1)\n",
    "        comm.Send(comb_list[i], dest=i + 1)\n",
    "\n",
    "    # 類似度計算結果を格納するユーザー×ユーザー行列を作成\n",
    "    sim_matrix = np.zeros((len(user_id2row_num), len(user_id2row_num)))\n",
    "    for i in range(core_num - 1):\n",
    "        comm.Recv(sim_list, source=i + 1)\n",
    "        for s in sim_list:\n",
    "            sim_matrix[s[\"comb\"][0], s[\"comb\"][1]] = s[\"sim\"]\n",
    "\n",
    "    # 類似度が上位k件のユーザーIDリストを作成\n",
    "    predict_row_num = user_id2row_num[predict_user_id]\n",
    "    top_k_rows = np.argsort(sim_matrix[predict_row_num])[::-1][:k]\n",
    "\n",
    "    topk_mean_ratings = np.mean(rate_matrix[top_k_rows, :], axis=0)\n",
    "    for i in np.argsort(topk_mean_ratings)[::-1]:\n",
    "        if rate_matrix[predict_row_num, i] == 0:\n",
    "            print(f\"itemid:{column_num2item_id[i]},predicted_score:{topk_mean_ratings[i]}\")\n",
    "            break\n",
    "\n",
    "else:\n",
    "    # 各プロセスは担当の組み合わせの類似度を計算し、プロセス0へ返信\n",
    "    comm.Recv(rate_matrix, source=0)\n",
    "    comm.Recv(calc_combs, source=0)\n",
    "\n",
    "    # コサイン類似度を計算\n",
    "    sim_list = []\n",
    "    for c in calc_combs:\n",
    "        sim_dict = {}\n",
    "        sim_dict[\"comb\"] = c\n",
    "        sim_dict[\"sim\"] = cos_sim(rate_matrix[c[0]], rate_matrix[c[1]])\n",
    "        sim_list.append(sim_dict)\n",
    "\n",
    "    comm.Send(sim_list, dest=0)\n",
    "    print(\"Hello world {0} / {1}\".format(rank, size))"
   ]
  }
 ],
 "metadata": {
  "kernelspec": {
   "display_name": "Python 3 (ipykernel)",
   "language": "python",
   "name": "python3"
  },
  "language_info": {
   "codemirror_mode": {
    "name": "ipython",
    "version": 3
   },
   "file_extension": ".py",
   "mimetype": "text/x-python",
   "name": "python",
   "nbconvert_exporter": "python",
   "pygments_lexer": "ipython3",
   "version": "3.9.6"
  }
 },
 "nbformat": 4,
 "nbformat_minor": 5
}
